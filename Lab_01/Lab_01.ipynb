{
 "cells": [
  {
   "cell_type": "code",
   "execution_count": 2,
   "metadata": {},
   "outputs": [],
   "source": [
    "import numpy as np"
   ]
  },
  {
   "cell_type": "code",
   "execution_count": 15,
   "metadata": {},
   "outputs": [],
   "source": [
    "\"\"\"Метод Гаусса с прямым и обратным ходом\"\"\"\n",
    "def simple_gauss(A, b):\n",
    "    # 1 этап: перестановка строк, чтобы на главной диагонали не было нулей\n",
    "    # 2 этап: прямой ход\n",
    "    # 3 этап: обратный ход\n",
    "    \n",
    "    return None\n",
    "    "
   ]
  },
  {
   "cell_type": "code",
   "execution_count": 16,
   "metadata": {},
   "outputs": [
    {
     "name": "stdout",
     "output_type": "stream",
     "text": [
      "[101  42  90 100  44]\n",
      "None\n",
      "False\n"
     ]
    }
   ],
   "source": [
    "# константы\n",
    "N, M = 5, 5\n",
    "low, high = 0, 10\n",
    "\n",
    "# создание входных и выходных данных для проверки\n",
    "A = np.random.randint(low, high, (N, M))\n",
    "x = np.random.randint(low, high, N)\n",
    "b = np.dot(A, x)\n",
    "\n",
    "ans = simple_gauss(A, b)\n",
    "print(b)\n",
    "print(ans)\n",
    "print(b is ans)"
   ]
  },
  {
   "cell_type": "code",
   "execution_count": null,
   "metadata": {},
   "outputs": [],
   "source": []
  }
 ],
 "metadata": {
  "kernelspec": {
   "display_name": "Python 3",
   "language": "python",
   "name": "python3"
  },
  "language_info": {
   "codemirror_mode": {
    "name": "ipython",
    "version": 3
   },
   "file_extension": ".py",
   "mimetype": "text/x-python",
   "name": "python",
   "nbconvert_exporter": "python",
   "pygments_lexer": "ipython3",
   "version": "3.12.3"
  }
 },
 "nbformat": 4,
 "nbformat_minor": 2
}
